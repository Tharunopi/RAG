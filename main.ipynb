{
 "cells": [
  {
   "cell_type": "code",
   "execution_count": 27,
   "id": "c655dfa2",
   "metadata": {},
   "outputs": [],
   "source": [
    "import time, os\n",
    "from utils.vector_db import vectorDataBase\n",
    "from tqdm import tqdm\n",
    "from langchain_google_genai import GoogleGenerativeAI\n",
    "from langchain_google_genai import GoogleGenerativeAIEmbeddings\n",
    "from langchain_community.document_loaders import PDFMinerLoader\n",
    "from langchain_text_splitters import RecursiveCharacterTextSplitter\n",
    "from langchain.prompts import ChatPromptTemplate\n",
    "from langchain_community.vectorstores import FAISS\n",
    "from langchain_core.runnables import RunnablePassthrough\n",
    "from langchain_core.output_parsers import StrOutputParser"
   ]
  },
  {
   "cell_type": "code",
   "execution_count": null,
   "id": "cb734151",
   "metadata": {},
   "outputs": [],
   "source": [
    "os.environ[\"LANGSMITH_TRACING\"]=\"true\"\n",
    "os.environ[\"LANGSMITH_ENDPOINT\"]=\"https://api.smith.langchain.com\"\n",
    "os.environ[\"LANGSMITH_API_KEY\"]=\"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\"\n",
    "os.environ[\"LANGSMITH_PROJECT\"]=\"simple_rag_llm\""
   ]
  },
  {
   "cell_type": "markdown",
   "id": "e62717b6",
   "metadata": {},
   "source": [
    "# **LLM's**"
   ]
  },
  {
   "cell_type": "code",
   "execution_count": 2,
   "id": "f8041a46",
   "metadata": {},
   "outputs": [],
   "source": [
    "llm = GoogleGenerativeAI(model=\"gemini-2.5-flash\", verbose=True)"
   ]
  },
  {
   "cell_type": "code",
   "execution_count": 3,
   "id": "5eb70079",
   "metadata": {},
   "outputs": [
    {
     "name": "stdout",
     "output_type": "stream",
     "text": [
      "Ah, Bankai! A noble pursuit, indeed! To unleash the final, most powerful release of your Zanpakuto is the dream of every Shinigami.\n",
      "\n",
      "However, before we delve into the intense training, let's clarify something crucial: **Bankai is a fictional concept from the anime and manga series *Bleach*.** It's not something that can be learned or achieved in the real world.\n",
      "\n",
      "But since you're asking to be \"taught,\" let's dive deep into the *Bleach* lore and understand exactly what Bankai is, and how one would supposedly achieve it within that universe!\n",
      "\n",
      "---\n",
      "\n",
      "## **Teaching You Bankai (The Fictional Way!)**\n",
      "\n",
      "### **What is Bankai?**\n",
      "\n",
      "Bankai (卍解, \"Full Release\" or \"Final Release\") is the second and final, most powerful form a Zanpakuto can take. It's the ultimate manifestation of a Shinigami's bond with their sword spirit.\n",
      "\n",
      "*   **Power Boost:** A Bankai typically amplifies a Shinigami's power by 5 to 10 times that of their Shikai.\n",
      "*   **Unique Abilities:** It often completely changes the appearance and abilities of the Zanpakuto, sometimes even affecting the Shinigami themselves or their surroundings.\n",
      "*   **Rarity:** Only the most skilled and dedicated Shinigami can achieve Bankai. It's a testament to immense spiritual power and understanding.\n",
      "\n",
      "### **The Path to Bankai: The Three-Day, Ten-Year Training Regimen (Fictional Steps)**\n",
      "\n",
      "Achieving Bankai is incredibly difficult and requires absolute mastery of your Zanpakuto. Here's how it's done in the world of *Bleach*:\n",
      "\n",
      "#### **Phase 1: Shikai Mastery (Years of Dedication)**\n",
      "\n",
      "Before you can even *think* about Bankai, you must achieve absolute and complete mastery of your Shikai.\n",
      "\n",
      "1.  **Learn Your Zanpakuto's Name:** This is the first step to any release. You must hear its voice and understand its essence.\n",
      "2.  **Master Shikai Release:** You must be able to call out your Zanpakuto's name and release its Shikai form instantly, without hesitation, and maintain it for extended periods.\n",
      "3.  **Understand Your Shikai's Abilities:** You need to know every nuance, every strength, and every weakness of your Shikai's powers. This isn't just about using them, it's about *understanding* them on a fundamental level.\n",
      "4.  **Deepen Your Bond:** Your Shikai is merely a fraction of your Zanpakuto's true power. You must communicate with your Zanpakuto spirit, understand its personality, and forge a deep, unbreakable bond. This often happens in your Inner World.\n",
      "\n",
      "#### **Phase 2: Materialization and Subjugation (The True Trial)**\n",
      "\n",
      "This is the most critical and dangerous phase. Traditionally, it takes at least **ten years** to achieve Bankai after Shikai, though prodigies can do it faster (like Ichigo's famous \"three-day\" training with Urahara, which was an accelerated, dangerous method).\n",
      "\n",
      "1.  **Enter Your Inner World (or Force Materialization):**\n",
      "    *   **The Traditional Method:** Through intense meditation and spiritual focus, you must enter your \"Inner World\"—the mental landscape where your Zanpakuto spirit resides.\n",
      "    *   **The Urahara Method (Accelerated & Dangerous):** Kisuke Urahara developed a method to force the Zanpakuto spirit to materialize in the real world. This is incredibly taxing and risky, as it can be fatal if you fail. This is how Ichigo achieved his Bankai quickly.\n",
      "\n",
      "2.  **Confront Your Zanpakuto Spirit:**\n",
      "    *   Once your spirit is materialized (either in your Inner World or the real world), you must **defeat it in combat.**\n",
      "    *   This isn't about brute force alone. It's a battle of wills, understanding, and spiritual power. Your spirit will test you, pushing you to your limits, revealing your flaws and doubts.\n",
      "    *   **The Goal:** You're not trying to *break* your spirit, but to *subjugate* it and gain its full cooperation. By defeating it, you prove your worthiness and demonstrate that you fully understand its essence and are capable of wielding its ultimate power.\n",
      "\n",
      "3.  **Learn Its True Name and Form:**\n",
      "    *   Upon defeating and gaining the full cooperation of your spirit, it will reveal its true, complete name—the name of your Bankai.\n",
      "    *   It will also reveal its true, ultimate form and abilities. This is the moment of enlightenment.\n",
      "\n",
      "#### **Phase 3: Mastering Bankai**\n",
      "\n",
      "Achieving Bankai is one thing; mastering it is another.\n",
      "\n",
      "1.  **Maintain Your Bankai:** Initially, maintaining Bankai will be incredibly draining. You'll need to train your spiritual energy (Reiatsu) to sustain it for longer periods.\n",
      "2.  **Understand Its Full Power:** Just like with Shikai, you must learn every facet of your Bankai's abilities. Some Bankai are direct upgrades, while others have completely different powers or even drawbacks.\n",
      "3.  **Train Constantly:** Bankai is not a static power. You must continuously train with it, push its limits, and integrate it seamlessly into your fighting style. Over time, your Bankai might even evolve further.\n",
      "\n",
      "---\n",
      "\n",
      "### **The Real-World \"Bankai\"**\n",
      "\n",
      "While you can't literally achieve Bankai, the *spirit* of the training offers some powerful metaphorical lessons for real life:\n",
      "\n",
      "1.  **Mastery and Dedication:** To achieve anything truly great, you need years of dedication and a deep understanding of your craft.\n",
      "2.  **Self-Discovery:** Just as a Shinigami must confront their inner spirit, we must confront our inner selves—our strengths, weaknesses, and true desires—to unlock our full potential.\n",
      "3.  **Patience and Perseverance:** Bankai takes time. Real-world achievements also require immense patience and the ability to persevere through challenges.\n",
      "4.  **Deep Connection:** Whether it's a skill, a passion, or a relationship, forming a deep, understanding connection leads to richer and more powerful outcomes.\n",
      "\n",
      "So, while your sword won't transform, you can still channel the spirit of Bankai training into mastering a skill, achieving a personal goal, or understanding yourself on a deeper level.\n",
      "\n",
      "Now go forth, and train your spirit! What will be *your* Bankai in the real world?\n"
     ]
    }
   ],
   "source": [
    "print(llm.invoke(\"Can you teach me bankai??\"))"
   ]
  },
  {
   "cell_type": "markdown",
   "id": "01a520aa",
   "metadata": {},
   "source": [
    "# **Vector Stores**"
   ]
  },
  {
   "cell_type": "code",
   "execution_count": null,
   "id": "a2db5530",
   "metadata": {},
   "outputs": [
    {
     "name": "stdout",
     "output_type": "stream",
     "text": [
      "Previous vector db is over written by this function\n"
     ]
    }
   ],
   "source": [
    "embeddings = GoogleGenerativeAIEmbeddings(\n",
    "    model=\"models/gemini-embedding-001\",\n",
    "    task_type=\"retrieval_document\"\n",
    ")\n",
    "\n",
    "# db_creator = vectorDataBase()\n",
    "# pdf_store = db_creator.initalize_empty_db(\n",
    "#     emdeddingFunction=embeddings\n",
    "# )\n",
    "\n",
    "pdf_store = FAISS.load_local(r\"C:\\Stack overflow\\RAG\\db\")"
   ]
  },
  {
   "cell_type": "markdown",
   "id": "852f959a",
   "metadata": {},
   "source": [
    "# **Loading from websites**"
   ]
  },
  {
   "cell_type": "code",
   "execution_count": null,
   "id": "58211578",
   "metadata": {},
   "outputs": [],
   "source": [
    "loader = PDFMinerLoader(\n",
    "    r\"E:\\jjk_pdf.pdf\"\n",
    ")\n",
    "loaded_docs = loader.load()"
   ]
  },
  {
   "cell_type": "code",
   "execution_count": 6,
   "id": "aad3328c",
   "metadata": {},
   "outputs": [
    {
     "name": "stdout",
     "output_type": "stream",
     "text": [
      "648\n"
     ]
    }
   ],
   "source": [
    "splitter = RecursiveCharacterTextSplitter(\n",
    "    chunk_size=200,\n",
    "    chunk_overlap=50,\n",
    "    length_function=len\n",
    ")\n",
    "\n",
    "docs = splitter.split_documents(loaded_docs)\n",
    "print(len(docs))"
   ]
  },
  {
   "cell_type": "code",
   "execution_count": 7,
   "id": "b837cdd2",
   "metadata": {},
   "outputs": [
    {
     "name": "stderr",
     "output_type": "stream",
     "text": [
      "Adding docs: 100%|██████████| 648/648 [34:01<00:00,  3.15s/docs]\n"
     ]
    }
   ],
   "source": [
    "with tqdm(total=len(docs), desc=\"Adding docs\", unit=\"docs\") as pbar:\n",
    "    for i in range(0, len(docs), 10):\n",
    "        batches = docs[i:i+10]\n",
    "        length = len(pdf_store.add_documents(batches))\n",
    "        time.sleep(30)\n",
    "        pbar.update(length)"
   ]
  },
  {
   "cell_type": "code",
   "execution_count": 8,
   "id": "36b29dba",
   "metadata": {},
   "outputs": [],
   "source": [
    "retiever = pdf_store.as_retriever(k=5)"
   ]
  },
  {
   "cell_type": "code",
   "execution_count": 9,
   "id": "de2a8f4b",
   "metadata": {},
   "outputs": [
    {
     "data": {
      "text/plain": [
       "[Document(id='bdf3e075-181c-4669-b92b-809fd0a79306', metadata={'producer': 'Skia/PDF m116', 'creator': 'Mozilla/5.0 (Windows NT 10.0; Win64; x64) AppleWebKit/537.36 (KHTML, like Gecko) Chrome/116.0.0.0 Safari/537.36', 'creationdate': '2023-09-24T19:45:22+00:00', 'moddate': '2023-09-24T19:45:22+00:00', 'total_pages': 33, 'source': 'E:\\\\jjk_pdf.pdf'}, page_content='But that all changes when the strongest cursed spirit Ryumen Sukuna is incarnated in the body'),\n",
       " Document(id='e9b7e8c8-c0f5-45f9-88d9-b3abbf7dd47f', metadata={'producer': 'Skia/PDF m116', 'creator': 'Mozilla/5.0 (Windows NT 10.0; Win64; x64) AppleWebKit/537.36 (KHTML, like Gecko) Chrome/116.0.0.0 Safari/537.36', 'creationdate': '2023-09-24T19:45:22+00:00', 'moddate': '2023-09-24T19:45:22+00:00', 'total_pages': 33, 'source': 'E:\\\\jjk_pdf.pdf'}, page_content='Jujutsu Kaisen'),\n",
       " Document(id='901e6347-8a81-49c4-93c9-67e44350eccd', metadata={'producer': 'Skia/PDF m116', 'creator': 'Mozilla/5.0 (Windows NT 10.0; Win64; x64) AppleWebKit/537.36 (KHTML, like Gecko) Chrome/116.0.0.0 Safari/537.36', 'creationdate': '2023-09-24T19:45:22+00:00', 'moddate': '2023-09-24T19:45:22+00:00', 'total_pages': 33, 'source': 'E:\\\\jjk_pdf.pdf'}, page_content='They are widely feared by sorcerers and classified as such to distinguish them from other\\n\\x0ccurses. Sukuna, who was human over 2,000 years ago, is famous for the legend of the'),\n",
       " Document(id='1f8067fc-c4ca-49b0-a620-c6a368a66883', metadata={'producer': 'Skia/PDF m116', 'creator': 'Mozilla/5.0 (Windows NT 10.0; Win64; x64) AppleWebKit/537.36 (KHTML, like Gecko) Chrome/116.0.0.0 Safari/537.36', 'creationdate': '2023-09-24T19:45:22+00:00', 'moddate': '2023-09-24T19:45:22+00:00', 'total_pages': 33, 'source': 'E:\\\\jjk_pdf.pdf'}, page_content='if the wound is a lethal one. So cutting off Sukuna’s hand isn’t gonna do anything but piss him \\n off and have him heal himself.')]"
      ]
     },
     "execution_count": 9,
     "metadata": {},
     "output_type": "execute_result"
    }
   ],
   "source": [
    "retiever.invoke(\"is sukuna really villan?\")"
   ]
  },
  {
   "cell_type": "code",
   "execution_count": 10,
   "id": "41c590d0",
   "metadata": {},
   "outputs": [],
   "source": [
    "pdf_store.save_local(r\"db\")"
   ]
  },
  {
   "cell_type": "markdown",
   "id": "579fb27f",
   "metadata": {},
   "source": [
    "# **Prompt**"
   ]
  },
  {
   "cell_type": "code",
   "execution_count": 21,
   "id": "bc70ac1b",
   "metadata": {},
   "outputs": [],
   "source": [
    "template = \"\"\"\n",
    "\n",
    "Answer the following question based on given context {context} \n",
    "\n",
    "Question: {question}\n",
    "\n",
    "You are an expert debate moderator and analyst. Using only the information provided in the context, facilitate a structured debate on the topic presented in the question, then determine a clear winner with comprehensive statistics and visual representations.\n",
    "\n",
    "## Debate Structure:\n",
    "\n",
    "**Phase 1: Opening Statements**\n",
    "Based on the context provided, present 3-4 distinct perspectives on the topic. For each perspective:\n",
    "- State the core position clearly using evidence from the context\n",
    "- Provide 2-3 strongest supporting arguments found in the context\n",
    "- Include relevant statistics, data, or expert opinions from the provided context\n",
    "- Acknowledge the strongest counterargument to this position found in the context\n",
    "\n",
    "**Phase 2: Cross-Examination**\n",
    "For each perspective, using only context information:\n",
    "- Present direct challenges from opposing viewpoints\n",
    "- Show responses to counterarguments\n",
    "- Provide additional evidence from context to strengthen positions\n",
    "- Identify potential weaknesses or limitations mentioned in the context\n",
    "\n",
    "**Phase 3: Rebuttal Round**\n",
    "- Present final strengthened arguments for each perspective using context\n",
    "- Address remaining critical points found in the provided information\n",
    "- Summarize why each perspective should win based on context evidence\n",
    "\n",
    "**Phase 4: Comprehensive Analysis & Winner Declaration**\n",
    "\n",
    "Evaluate each perspective using these weighted criteria based solely on context information:\n",
    "1. **Logical Consistency** (25%): Internal coherence based on context evidence\n",
    "2. **Evidence Quality** (25%): Strength of supporting data from context\n",
    "3. **Argument Strength** (20%): Persuasiveness based on context information\n",
    "4. **Counterargument Handling** (15%): How well opposing views are addressed in context\n",
    "5. **Real-World Applicability** (10%): Practical implications mentioned in context\n",
    "6. **Ethical Considerations** (5%): Moral implications found in context\n",
    "\n",
    "## Final Winner Declaration:\n",
    "\n",
    "**WINNER: [Perspective Name]**\n",
    "\n",
    "**Victory Margin**: [Decisive/Strong/Narrow] - [Overall Score X.X/10]\n",
    "\n",
    "**Detailed Scoring Breakdown**:\n",
    "- Perspective 1: [Score/10] - [Justification from context]\n",
    "- Perspective 2: [Score/10] - [Justification from context]  \n",
    "- Perspective 3: [Score/10] - [Justification from context]\n",
    "- [Additional perspectives as needed]\n",
    "\n",
    "**Key Victory Factors** (based on context):\n",
    "1. [Primary reason supported by context evidence]\n",
    "2. [Secondary reason from context]\n",
    "3. [Additional factors from context]\n",
    "\n",
    "**Statistical Summary** (derived from context):\n",
    "- Total arguments presented: [X]\n",
    "- Evidence citations from context: [X]\n",
    "- Counterarguments addressed: [X]\n",
    "- Critical weaknesses identified: [X]\n",
    "- Data points supporting winner: [X]\n",
    "\n",
    "**Debate Quality Metrics**:\n",
    "- Argument diversity score: [X/10]\n",
    "- Evidence reliability score: [X/10]\n",
    "- Logical rigor score: [X/10]\n",
    "- Overall debate quality: [X/10]\n",
    "\n",
    "\"\"\""
   ]
  },
  {
   "cell_type": "markdown",
   "id": "3871101c",
   "metadata": {},
   "source": [
    "# **Generation**"
   ]
  },
  {
   "cell_type": "code",
   "execution_count": 22,
   "id": "f38909fd",
   "metadata": {},
   "outputs": [
    {
     "data": {
      "text/plain": [
       "ChatPromptTemplate(input_variables=['context', 'question'], input_types={}, partial_variables={}, messages=[HumanMessagePromptTemplate(prompt=PromptTemplate(input_variables=['context', 'question'], input_types={}, partial_variables={}, template='\\n\\nAnswer the following question based on given context {context} \\n\\nQuestion: {question}\\n\\nYou are an expert debate moderator and analyst. Using only the information provided in the context, facilitate a structured debate on the topic presented in the question, then determine a clear winner with comprehensive statistics and visual representations.\\n\\n## Debate Structure:\\n\\n**Phase 1: Opening Statements**\\nBased on the context provided, present 3-4 distinct perspectives on the topic. For each perspective:\\n- State the core position clearly using evidence from the context\\n- Provide 2-3 strongest supporting arguments found in the context\\n- Include relevant statistics, data, or expert opinions from the provided context\\n- Acknowledge the strongest counterargument to this position found in the context\\n\\n**Phase 2: Cross-Examination**\\nFor each perspective, using only context information:\\n- Present direct challenges from opposing viewpoints\\n- Show responses to counterarguments\\n- Provide additional evidence from context to strengthen positions\\n- Identify potential weaknesses or limitations mentioned in the context\\n\\n**Phase 3: Rebuttal Round**\\n- Present final strengthened arguments for each perspective using context\\n- Address remaining critical points found in the provided information\\n- Summarize why each perspective should win based on context evidence\\n\\n**Phase 4: Comprehensive Analysis & Winner Declaration**\\n\\nEvaluate each perspective using these weighted criteria based solely on context information:\\n1. **Logical Consistency** (25%): Internal coherence based on context evidence\\n2. **Evidence Quality** (25%): Strength of supporting data from context\\n3. **Argument Strength** (20%): Persuasiveness based on context information\\n4. **Counterargument Handling** (15%): How well opposing views are addressed in context\\n5. **Real-World Applicability** (10%): Practical implications mentioned in context\\n6. **Ethical Considerations** (5%): Moral implications found in context\\n\\n## Final Winner Declaration:\\n\\n**WINNER: [Perspective Name]**\\n\\n**Victory Margin**: [Decisive/Strong/Narrow] - [Overall Score X.X/10]\\n\\n**Detailed Scoring Breakdown**:\\n- Perspective 1: [Score/10] - [Justification from context]\\n- Perspective 2: [Score/10] - [Justification from context]  \\n- Perspective 3: [Score/10] - [Justification from context]\\n- [Additional perspectives as needed]\\n\\n**Key Victory Factors** (based on context):\\n1. [Primary reason supported by context evidence]\\n2. [Secondary reason from context]\\n3. [Additional factors from context]\\n\\n**Statistical Summary** (derived from context):\\n- Total arguments presented: [X]\\n- Evidence citations from context: [X]\\n- Counterarguments addressed: [X]\\n- Critical weaknesses identified: [X]\\n- Data points supporting winner: [X]\\n\\n**Debate Quality Metrics**:\\n- Argument diversity score: [X/10]\\n- Evidence reliability score: [X/10]\\n- Logical rigor score: [X/10]\\n- Overall debate quality: [X/10]\\n\\n'), additional_kwargs={})])"
      ]
     },
     "execution_count": 22,
     "metadata": {},
     "output_type": "execute_result"
    }
   ],
   "source": [
    "prompt = ChatPromptTemplate.from_template(template)\n",
    "prompt"
   ]
  },
  {
   "cell_type": "code",
   "execution_count": 23,
   "id": "72f69896",
   "metadata": {},
   "outputs": [],
   "source": [
    "chain = prompt | llm"
   ]
  },
  {
   "cell_type": "code",
   "execution_count": 24,
   "id": "5972b810",
   "metadata": {},
   "outputs": [],
   "source": [
    "docs = retiever.invoke(\"who wins in a fight Gojo vs Sukuna\")"
   ]
  },
  {
   "cell_type": "code",
   "execution_count": 25,
   "id": "34fd05ec",
   "metadata": {},
   "outputs": [],
   "source": [
    "debate_result = chain.invoke({\"context\":docs, \"question\":\"who wins in a fight Gojo vs Sukuna\"})"
   ]
  },
  {
   "cell_type": "code",
   "execution_count": 26,
   "id": "8a960536",
   "metadata": {},
   "outputs": [],
   "source": [
    "with open(r\"debate_result.txt\", \"w\") as f:\n",
    "    f.write(debate_result)"
   ]
  },
  {
   "cell_type": "code",
   "execution_count": 28,
   "id": "b5acc8d6",
   "metadata": {},
   "outputs": [],
   "source": [
    "rag_chain = {\"context\": retiever, \"question\": RunnablePassthrough()} | prompt | llm | StrOutputParser()\n",
    "\n",
    "full_chain_result = rag_chain.invoke(\"is Gojo stronger than Sukuna\")"
   ]
  },
  {
   "cell_type": "code",
   "execution_count": 29,
   "id": "a5565230",
   "metadata": {},
   "outputs": [
    {
     "data": {
      "text/plain": [
       "'The debate centers on the question: \"Is Gojo stronger than Sukuna?\" Based solely on the provided context, we will facilitate a structured debate to determine the answer.\\n\\n## Debate Structure:\\n\\n**Phase 1: Opening Statements**\\n\\n**Perspective 1: Gojo Satoru is unequivocally stronger.**\\n\\n*   **Core Position:** Gojo Satoru is explicitly declared the ultimate authority in terms of strength within this world, backed by an unparalleled defensive capability.\\n*   **Strongest Supporting Arguments:**\\n    1.  **Absolute Declaration of Strength:** The context directly states, \"Gojo Satoru is the strongest.\" This is a general, overarching claim that places him at the pinnacle of power without qualification.\\n    2.  **Superior Defensive Capabilities:** Gojo possesses an ability to \"ignore the explosion\" of a nuke, making him \"hard to nuke.\" This demonstrates a level of invulnerability not attributed to any other character.\\n*   **Relevant Statistics/Data from Context:** The direct quote \"Gojo Satoru is the strongest\" serves as the primary data point for his overall supremacy. His ability to \"ignore the explosion\" is a specific, powerful data point regarding his defense.\\n*   **Strongest Counterargument:** The context also states that \"the strongest cursed spirit Ryumen Sukuna is incarnated.\" This suggests Sukuna holds a top-tier position within a powerful category.\\n\\n**Perspective 2: Ryumen Sukuna is the strongest within his domain, and a significant power, but the context does not definitively prove he surpasses Gojo.**\\n\\n*   **Core Position:** Sukuna is presented as the apex of cursed spirits, a class of beings defined by their inherent power, making him a formidable force. However, the provided information does not establish him as *overall* stronger than Gojo.\\n*   **Strongest Supporting Arguments:**\\n    1.  **Pinnacle of Cursed Spirits:** Sukuna is identified as \"the strongest cursed spirit Ryumen Sukuna.\" This designates him as the most powerful entity within a category known for its strength, implying immense destructive potential.\\n    2.  **Threat Level Comparable to Extreme Measures:** The context mentions the possibility to \"nuke Sukuna if you can find one of those,\" indicating that he is a threat considered worthy of such extreme, world-altering measures. This speaks to his immense power and the difficulty in defeating him.\\n*   **Relevant Statistics/Data from Context:** The direct quote \"the strongest cursed spirit Ryumen Sukuna\" establishes his rank within his category. The implied need to \"nuke\" him highlights his destructive capacity.\\n*   **Strongest Counterargument:** The context explicitly states, \"Gojo Satoru is the strongest,\" a broader and more absolute claim than Sukuna\\'s specific title.\\n\\n**Phase 2: Cross-Examination**\\n\\n**Perspective 1 (Gojo Stronger):**\\n\\n*   **Direct Challenge from Opposing Viewpoint:** While Gojo is called \"the strongest,\" Sukuna is \"the strongest cursed spirit.\" Doesn\\'t this imply Sukuna is stronger in a specific, powerful domain, and thus potentially a match for Gojo, or even stronger in terms of raw destructive power?\\n*   **Response to Counterargument:** The term \"strongest cursed spirit\" specifies a *category*. Gojo\\'s title \"the strongest\" is presented without such a qualifier, suggesting an overall, absolute supremacy that transcends categories. If Sukuna were *overall* stronger, the text would likely state \"Sukuna is the strongest\" rather than \"strongest cursed spirit.\"\\n*   **Additional Evidence from Context to Strengthen Position:** Gojo\\'s ability to \"ignore the explosion\" of a nuke provides a concrete, tangible example of his superior defensive and perhaps offensive capabilities. This specific feat of invulnerability is not matched or even hinted at for Sukuna.\\n*   **Potential Weaknesses or Limitations Mentioned in Context:** The context doesn\\'t present any explicit weaknesses for Gojo. The only limitation for the debate is the limited scope of information provided.\\n\\n**Perspective 2 (Sukuna Strongest Cursed Spirit):**\\n\\n*   **Direct Challenge from Opposing Viewpoint:** Gojo is stated to be \"the strongest,\" and he can \"ignore the explosion\" of a nuke. Sukuna, however, is presented as someone who *can* be nuked, albeit with specific conditions (\"if you can find one of those\" and \"can touch it before it\\'s used\"). Doesn\\'t this directly imply Gojo\\'s superior durability and overall strength?\\n*   **Response to Counterargument:** While Gojo\\'s defensive ability is impressive, the context for Sukuna implies a *method* of defeat, not a fundamental weakness in his power. The fact that a \"nuke\" is even considered for Sukuna underscores his immense power—it would require an ultimate weapon, and even then, specific conditions apply. His title \"strongest cursed spirit\" still means he is at the pinnacle of a terrifying power source. The context doesn\\'t explicitly state Gojo *could defeat* Sukuna, only that Gojo is \"the strongest\" and very durable.\\n*   **Additional Evidence from Context to Strengthen Position:** The description of the world running \"on strength\" and Sukuna being \"the strongest cursed spirit\" highlights that Sukuna\\'s power is foundational to the world\\'s dynamics, making him an undeniable force. His incarnation changing \"that all\" further emphasizes his impact and power.\\n*   **Potential Weaknesses or Limitations Mentioned in Context:** The explicit mention of a method to \"nuke Sukuna\" (even with conditions) contrasts sharply with Gojo\\'s ability to \"ignore the explosion,\" suggesting a potential vulnerability in Sukuna that Gojo does not share.\\n\\n**Phase 3: Rebuttal Round**\\n\\n**Perspective 1 (Gojo Stronger): Final Argument:**\\nThe context unequivocally declares \"Gojo Satoru is the strongest.\" This is a singular, absolute statement that overrides any category-specific claims. Furthermore, Gojo\\'s demonstrated ability to \"ignore the explosion\" of a nuke provides concrete evidence of his supreme invulnerability and power, a feat far exceeding the conditional vulnerability implied for Sukuna. While Sukuna is the \"strongest cursed spirit,\" this is a title within a class; Gojo\\'s title is universal. Therefore, based on the provided text, Gojo holds the superior position of strength.\\n\\n**Perspective 2 (Sukuna Strongest Cursed Spirit): Final Argument:**\\nThe context establishes Sukuna as \"the strongest cursed spirit,\" a title that in a world \"that runs on strength\" signifies immense and terrifying power. His incarnation *changes everything*, underscoring his world-altering impact. While Gojo is called \"the strongest,\" this is a broad statement. The text *also* describes a scenario where Sukuna would require a nuke to be defeated, indicating his power level is on par with, or even necessitates, such extreme measures. The condition for nuking him (\"can touch it before it\\'s used\") suggests a complex defense, not a simple vulnerability. The context simply doesn\\'t provide enough direct comparison to definitively place Gojo *above* the \"strongest cursed spirit\" in a direct confrontation, only that Gojo has a strong defense against explosions.\\n\\n**Phase 4: Comprehensive Analysis & Winner Declaration**\\n\\nEvaluating each perspective using the weighted criteria based solely on context information:\\n\\n1.  **Logical Consistency (25%):**\\n    *   **Perspective 1 (Gojo):** Highly consistent. \"Gojo Satoru is the strongest\" is a direct, absolute statement. His ability to \"ignore the explosion\" supports this absolute strength. (Score: 23/25)\\n    *   **Perspective 2 (Sukuna):** Consistent within its claim (\"strongest cursed spirit\"), but struggles to reconcile with the broader \"Gojo is the strongest\" statement without adding external interpretation. The nuke argument is strong for his power but also highlights a potential vulnerability. (Score: 18/25)\\n\\n2.  **Evidence Quality (25%):**\\n    *   **Perspective 1 (Gojo):** Relies on two direct, strong pieces of evidence: an absolute declaration of strength and a specific, powerful defensive feat. (Score: 24/25)\\n    *   **Perspective 2 (Sukuna):** Relies on one direct declaration (strongest cursed spirit) and an implied threat level (nuke). The \"nuke\" evidence, while showing power, also implies a possible defeat mechanism. (Score: 19/25)\\n\\n3.  **Argument Strength (20%):**\\n    *   **Perspective 1 (Gojo):** The absolute statement combined with concrete defensive ability forms a very persuasive argument for overall supremacy. (Score: 19/20)\\n    *   **Perspective 2 (Sukuna):** Strong for establishing Sukuna as a top-tier threat, but less persuasive in arguing he is *overall* stronger than the one explicitly called \"the strongest.\" (Score: 15/20)\\n\\n4.  **Counterargument Handling (15%):**\\n    *   **Perspective 1 (Gojo):** Effectively counters the \"strongest cursed spirit\" by emphasizing the categorical nature of Sukuna\\'s title versus Gojo\\'s absolute one. (Score: 13/15)\\n    *   **Perspective 2 (Sukuna):** Acknowledges Gojo\\'s \"strongest\" title but attempts to frame it as a general statement without direct comparative proof against Sukuna\\'s specific power. Struggles to fully explain away Gojo\\'s direct invulnerability. (Score: 10/15)\\n\\n5.  **Real-World Applicability (10%):** (Interpreted as implications within the world described)\\n    *   **Perspective 1 (Gojo):** Gojo\\'s strength determines \"what you can do and who you can associate with,\" making his absolute strength a fundamental aspect of the world\\'s power structure. (Score: 9/10)\\n    *   **Perspective 2 (Sukuna):** Sukuna\\'s incarnation \"changes that all,\" implying a massive, world-altering impact due to his strength. (Score: 8/10)\\n\\n6.  **Ethical Considerations (5%):** (No direct ethical considerations related to *who is stronger* are present in the context.)\\n    *   **Perspective 1 (Gojo):** N/A (Score: 2.5/5 - neutral)\\n    *   **Perspective 2 (Sukuna):** N/A (Score: 2.5/5 - neutral)\\n\\n## Final Winner Declaration:\\n\\n**WINNER: Perspective 1: Gojo Satoru is unequivocally stronger.**\\n\\n**Victory Margin**: Decisive - **Overall Score 91.5/100**\\n\\n**Detailed Scoring Breakdown**:\\n*   **Perspective 1 (Gojo Stronger): 91.5/100** - Justification: This perspective leverages the explicit, absolute statement \"Gojo Satoru is the strongest\" and concrete evidence of his unparalleled defensive capabilities (\"ignore the explosion\") to build a highly consistent and well-supported argument. It effectively addresses the counter-claim by highlighting the categorical nature of Sukuna\\'s title.\\n*   **Perspective 2 (Sukuna Strongest Cursed Spirit): 73.5/100** - Justification: While establishing Sukuna as a top-tier power (\"strongest cursed spirit\") worthy of extreme measures, this perspective struggles to overcome the absolute declaration of Gojo\\'s strength and Gojo\\'s specific, superior defensive feat. Its arguments are strong for Sukuna\\'s power but not for his *overall* supremacy over Gojo based *solely* on the provided text.\\n\\n**Key Victory Factors** (based on context):\\n1.  **Absolute Declaration:** The context states \"Gojo Satoru is the strongest\" without qualification, making it a definitive statement of overall power.\\n2.  **Superior Defensive Capability:** Gojo\\'s ability to \"ignore the explosion\" of a nuke is a concrete demonstration of strength and invulnerability that is not matched by Sukuna, who is presented as potentially vulnerable to a nuke under certain conditions.\\n3.  **Categorical vs. Absolute Title:** Sukuna\\'s title \"strongest cursed spirit\" is powerful but specific to a category, whereas Gojo\\'s title is general and absolute, implying a higher, overarching level of strength.\\n\\n**Statistical Summary** (derived from context):\\n*   Total arguments presented: 4 (2 per perspective)\\n*   Evidence citations from context: 4 (2 explicit quotes for Gojo, 2 for Sukuna)\\n*   Counterarguments addressed: 2 (1 for each perspective)\\n*   Critical weaknesses identified: 1 (Sukuna\\'s implied vulnerability to a nuke)\\n*   Data points supporting winner: 2 (Gojo Satoru is the strongest, Gojo can ignore explosions)\\n\\n**Debate Quality Metrics**:\\n*   Argument diversity score: 7/10 (Two distinct positions, though one is stronger)\\n*   Evidence reliability score: 9/10 (All evidence directly quoted from context, highly reliable)\\n*   Logical rigor score: 8/10 (Arguments are logically derived from the given text)\\n*   Overall debate quality: 8/10'"
      ]
     },
     "execution_count": 29,
     "metadata": {},
     "output_type": "execute_result"
    }
   ],
   "source": [
    "full_chain_result"
   ]
  },
  {
   "cell_type": "markdown",
   "id": "03ef3704",
   "metadata": {},
   "source": [
    "# **Query translation**"
   ]
  },
  {
   "cell_type": "code",
   "execution_count": null,
   "id": "ed3a59d6",
   "metadata": {},
   "outputs": [],
   "source": []
  }
 ],
 "metadata": {
  "kernelspec": {
   "display_name": ".venv (3.11.4)",
   "language": "python",
   "name": "python3"
  },
  "language_info": {
   "codemirror_mode": {
    "name": "ipython",
    "version": 3
   },
   "file_extension": ".py",
   "mimetype": "text/x-python",
   "name": "python",
   "nbconvert_exporter": "python",
   "pygments_lexer": "ipython3",
   "version": "3.11.4"
  }
 },
 "nbformat": 4,
 "nbformat_minor": 5
}
