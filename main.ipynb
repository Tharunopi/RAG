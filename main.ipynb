{
 "cells": [
  {
   "cell_type": "code",
   "execution_count": null,
   "id": "c655dfa2",
   "metadata": {},
   "outputs": [],
   "source": [
    "from utils.vector_db import vectorDataBase\n",
    "import os\n",
    "from langchain_google_genai import GoogleGenerativeAI\n",
    "from langchain_google_genai import GoogleGenerativeAIEmbeddings\n",
    "from langchain_community."
   ]
  },
  {
   "cell_type": "markdown",
   "id": "e62717b6",
   "metadata": {},
   "source": [
    "# **LLM's**"
   ]
  },
  {
   "cell_type": "code",
   "execution_count": 10,
   "id": "f8041a46",
   "metadata": {},
   "outputs": [],
   "source": [
    "llm = GoogleGenerativeAI(model=\"gemini-2.5-flash\", verbose=True)"
   ]
  },
  {
   "cell_type": "code",
   "execution_count": 11,
   "id": "5eb70079",
   "metadata": {},
   "outputs": [
    {
     "data": {
      "text/plain": [
       "'Ah, a fellow Shinigami in training! You\\'ve got your sights set on the ultimate release, the pinnacle of Zanpakuto power!\\n\\nFirst, let\\'s get one thing straight: Bankai is a fictional concept from the anime and manga *Bleach*. While I can\\'t *literally* teach you to manifest a spiritual weapon and achieve its final form, I can certainly explain how it\\'s achieved within the lore of *Bleach*, and maybe we can find some real-world parallels in dedication and mastery!\\n\\n### How to Achieve Bankai (According to Bleach Lore)\\n\\nBankai (卍解, \"Final Release\" or \"Full Release\") is the second and final, much more powerful form of a Shinigami\\'s Zanpakuto. It\\'s incredibly difficult to achieve, and only a handful of Shinigami ever manage it.\\n\\nHere are the \"steps\" and requirements within the *Bleach* universe:\\n\\n1.  **Master Your Shikai:**\\n    *   **Prerequisite:** You must first be able to fully understand and release your Zanpakuto\\'s first stage, Shikai. This means knowing its name, its abilities, and being able to summon it consistently.\\n    *   **Real-world parallel:** You can\\'t run before you can walk. Master the basics of any skill before attempting advanced techniques.\\n\\n2.  **Materialize Your Zanpakuto\\'s Spirit:**\\n    *   **The Core Challenge:** This is the most crucial and difficult step. You must force the spirit of your Zanpakuto out of your inner world and into the real world. This isn\\'t just about power; it\\'s about *dialogue* and *subjugation*.\\n    *   **Dialogue:** You need to be able to communicate directly with your Zanpakuto\\'s spirit, understand its personality, and its true nature.\\n    *   **Subjugation:** Once the spirit is materialized, you must defeat it in combat. This isn\\'t about destroying it, but about proving your strength, resolve, and worthiness to wield its full power. You must make it acknowledge you as its true master, worthy of its ultimate form.\\n    *   **Time Commitment:** This process traditionally takes **at least ten years** of dedicated training for most Shinigami. There are exceptions (like Ichigo, who used Urahara\\'s special training method, or Kisuke Urahara himself, who invented a shortcut).\\n    *   **Real-world parallel:** Deep self-reflection, understanding your own strengths and weaknesses, and confronting your inner demons or limitations. It\\'s about truly mastering *yourself* and your tools.\\n\\n3.  **Give it a Name and Release Command:**\\n    *   Once you\\'ve subjugated your Zanpakuto spirit, it will reveal its true name and the name of its Bankai form.\\n    *   With a powerful release command (e.g., \"Senbonzakura Kageyoshi!\" or \"Tensa Zangetsu!\"), you can then unleash its full power.\\n\\n### What Happens When You Achieve Bankai?\\n\\n*   **Massive Power Boost:** Your spiritual pressure (Reiatsu) increases exponentially.\\n*   **Transformation:** Your Zanpakuto, and sometimes even your own appearance, undergoes a dramatic transformation. This can range from a smaller, more compact form (like Tensa Zangetsu) to a massive, elaborate structure (like Senbonzakura Kageyoshi) or even a living creature (like Daiguren Hyōrinmaru).\\n*   **New Abilities:** Bankai often grants entirely new, devastating abilities, or vastly amplifies the existing abilities of your Shikai. These abilities are unique to each Zanpakuto.\\n*   **Drain and Risk:** Using Bankai is incredibly taxing on your spiritual energy. If it\\'s not fully mastered, it can even cause harm to the user or be unstable. Repeated damage to a Bankai can also weaken it, potentially permanently.\\n\\n### Real-World \"Bankai\"\\n\\nWhile you can\\'t summon a spiritual sword, you *can* apply the spirit of Bankai to your own life:\\n\\n1.  **Master Your Fundamentals:** Become exceptionally good at the basics of your chosen skill, craft, or field.\\n2.  **Understand Your Tools:** Whether it\\'s a musical instrument, a coding language, a paintbrush, or your own body, truly understand its capabilities, limitations, and how to get the most out of it.\\n3.  **Confront Your Inner Obstacles:** Push past your comfort zone, face challenges head-on, and overcome the \"spiritual manifestations\" of doubt, fear, or laziness.\\n4.  **Dedication and Practice:** There are no shortcuts to true mastery. Consistent, focused effort over a long period is the only way to unlock your \"full release\" potential.\\n5.  **Unleash Your Unique Power:** Once you\\'ve mastered your craft, you\\'ll develop your own unique style, approach, and \"abilities\" that set you apart.\\n\\nSo, while I can\\'t hand you a Zanpakuto, I encourage you to pursue your passions with the same dedication and drive as a Shinigami aiming for Bankai! What\\'s *your* Bankai in the real world?'"
      ]
     },
     "execution_count": 11,
     "metadata": {},
     "output_type": "execute_result"
    }
   ],
   "source": [
    "print(llm.invoke(\"Can you teach me bankai??\"))"
   ]
  },
  {
   "cell_type": "code",
   "execution_count": null,
   "id": "9f0ac1d8",
   "metadata": {},
   "outputs": [],
   "source": []
  },
  {
   "cell_type": "markdown",
   "id": "01a520aa",
   "metadata": {},
   "source": [
    "# **Vector Stores**"
   ]
  },
  {
   "cell_type": "code",
   "execution_count": 17,
   "id": "a2db5530",
   "metadata": {},
   "outputs": [
    {
     "name": "stdout",
     "output_type": "stream",
     "text": [
      "Previous vector db is over written by this function\n"
     ]
    }
   ],
   "source": [
    "embeddings = GoogleGenerativeAIEmbeddings(\n",
    "    model=\"models/gemini-embedding-001\",\n",
    "    task_type=\"retrieval_document\"\n",
    ")\n",
    "\n",
    "db_creator = vectorDataBase()\n",
    "pdf_store = db_creator.initalize_empty_db(\n",
    "    emdeddingFunction=embeddings\n",
    ")"
   ]
  },
  {
   "cell_type": "code",
   "execution_count": null,
   "id": "58211578",
   "metadata": {},
   "outputs": [],
   "source": []
  }
 ],
 "metadata": {
  "kernelspec": {
   "display_name": ".venv (3.11.4)",
   "language": "python",
   "name": "python3"
  },
  "language_info": {
   "codemirror_mode": {
    "name": "ipython",
    "version": 3
   },
   "file_extension": ".py",
   "mimetype": "text/x-python",
   "name": "python",
   "nbconvert_exporter": "python",
   "pygments_lexer": "ipython3",
   "version": "3.11.4"
  }
 },
 "nbformat": 4,
 "nbformat_minor": 5
}
